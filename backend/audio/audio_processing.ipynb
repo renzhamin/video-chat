{
 "cells": [
  {
   "cell_type": "code",
   "execution_count": 177,
   "id": "6ea34bc0-14b4-4c6f-9ee8-ffdfeef92257",
   "metadata": {},
   "outputs": [],
   "source": [
    "from openai import OpenAI\n",
    "import os\n",
    "import math\n",
    "import base64\n",
    "from pydub import AudioSegment\n",
    "\n",
    "from dotenv import load_dotenv\n",
    "\n",
    "load_dotenv()\n",
    "api_key = os.getenv(\"API_KEY\")\n",
    "client = OpenAI(api_key=api_key)"
   ]
  },
  {
   "cell_type": "code",
   "execution_count": 178,
   "id": "ed178c8b-4848-40f7-b5ac-e68f0948d9b5",
   "metadata": {},
   "outputs": [],
   "source": [
    "chunk_size_bytes = 20 * 1024 * 1024\n",
    "file_path = \"tedx.mp3\"\n",
    "output_folder = \"chunks\"\n",
    "num_chunks = -1"
   ]
  },
  {
   "cell_type": "code",
   "execution_count": 179,
   "id": "b2ac9b36-6d5c-4895-a3da-773fab253757",
   "metadata": {},
   "outputs": [],
   "source": [
    "def chunk_file_by_size(file_name, chunk_size_bytes, output_folder):\n",
    "    os.makedirs(output_folder, exist_ok=True)\n",
    "    \n",
    "    with open(file_name, 'rb') as file:\n",
    "        file_size = os.path.getsize(file_name)\n",
    "        num_chunks = (file_size + chunk_size_bytes -  1) // chunk_size_bytes\n",
    "        for i in range(num_chunks):\n",
    "            chunk_file_name = os.path.join(output_folder, f\"{os.path.splitext(os.path.basename(file_name))[0]}_chunk{i}.mp3\")\n",
    "            chunk = file.read(chunk_size_bytes)\n",
    "            with open(chunk_file_name, 'wb') as chunk_file:\n",
    "                chunk_file.write(chunk)\n",
    "\n",
    "    return num_chunks"
   ]
  },
  {
   "cell_type": "code",
   "execution_count": 180,
   "id": "5f389804-c803-4967-b416-4d3a060f527c",
   "metadata": {},
   "outputs": [],
   "source": [
    "num_chunks = chunk_file_by_size(file_path, chunk_size_bytes, output_folder)"
   ]
  },
  {
   "cell_type": "code",
   "execution_count": 181,
   "id": "3e569f56-ee8d-409e-a105-ddd5b37ce115",
   "metadata": {},
   "outputs": [],
   "source": [
    "def transcribe_chunk(chunk_file):\n",
    "    with open(chunk_file, \"rb\") as audio_file:\n",
    "        transcription = client.audio.transcriptions.create(\n",
    "            model=\"whisper-1\",\n",
    "            file=audio_file,\n",
    "            response_format=\"verbose_json\",\n",
    "            timestamp_granularities=[\"word\"]\n",
    "        )\n",
    "    return transcription"
   ]
  },
  {
   "cell_type": "code",
   "execution_count": 182,
   "id": "65cc1240-f6b3-47cc-abad-7ab1e50a2b29",
   "metadata": {},
   "outputs": [],
   "source": [
    "def get_transcription(file_path, num_chunks):\n",
    "    transcriptions = []\n",
    "    \n",
    "    for i in range(num_chunks):\n",
    "        chunk_file_name = f\"{os.path.splitext(os.path.basename(file_path))[0]}_chunk{i}.mp3\"\n",
    "        \n",
    "        path = os.path.join(os.getcwd(), output_folder, chunk_file_name)\n",
    "        transcription = transcribe_chunk(path)\n",
    "        os.remove(path)\n",
    "\n",
    "        transcriptions.append(transcription)\n",
    "\n",
    "    return transcriptions"
   ]
  },
  {
   "cell_type": "code",
   "execution_count": 183,
   "id": "9c89b676-42f2-4895-850a-f2f08f68abf2",
   "metadata": {},
   "outputs": [
    {
     "name": "stdout",
     "output_type": "stream",
     "text": [
      "The line of code took 42.955328 seconds to execute.\n"
     ]
    }
   ],
   "source": [
    "import time\n",
    "start_time = time.perf_counter()\n",
    "\n",
    "transcriptions = get_transcription(file_path, num_chunks)\n",
    "\n",
    "end_time = time.perf_counter()\n",
    "\n",
    "time_spent = end_time - start_time\n",
    "print(f\"The line of code took {time_spent:.6f} seconds to execute.\")"
   ]
  },
  {
   "cell_type": "code",
   "execution_count": 184,
   "id": "ba37cfee-e608-4643-bd4f-9717152c1831",
   "metadata": {},
   "outputs": [
    {
     "name": "stdout",
     "output_type": "stream",
     "text": [
      "2104\n"
     ]
    }
   ],
   "source": [
    "print(len(transcriptions[0].text.split(\" \")))"
   ]
  },
  {
   "cell_type": "code",
   "execution_count": 185,
   "id": "b03112fe-3904-4dab-a20c-46a0e916aded",
   "metadata": {},
   "outputs": [],
   "source": [
    "# from moviepy.editor import VideoFileClip\n",
    "\n",
    "# def convert_mp4_to_mp3(mp4_file_path, mp3_file_path):\n",
    "#     video_clip = VideoFileClip(mp4_file_path)\n",
    "#     audio_clip = video_clip.audio\n",
    "#     audio_clip.write_audiofile(mp3_file_path)\n"
   ]
  },
  {
   "cell_type": "code",
   "execution_count": 186,
   "id": "e7842aa6-18f8-4a5c-9616-66ea2fb5ff05",
   "metadata": {},
   "outputs": [
    {
     "data": {
      "text/plain": [
       "2556"
      ]
     },
     "execution_count": 186,
     "metadata": {},
     "output_type": "execute_result"
    }
   ],
   "source": [
    "import tiktoken\n",
    "def num_tokens_from_string(string: str, encoding_name: str) -> int:\n",
    "    \"\"\"Returns the number of tokens in a text string.\"\"\"\n",
    "    encoding = tiktoken.get_encoding(encoding_name)\n",
    "    num_tokens = len(encoding.encode(string))\n",
    "    return num_tokens\n",
    "\n",
    "num_tokens_from_string(transcriptions[0].text, \"cl100k_base\")\n"
   ]
  },
  {
   "cell_type": "code",
   "execution_count": 187,
   "id": "abbc1733-01c4-484f-823e-462a25a37a1f",
   "metadata": {},
   "outputs": [],
   "source": [
    "# transcriptions[0].text"
   ]
  },
  {
   "cell_type": "code",
   "execution_count": 188,
   "id": "5f80bb80-fb38-4ceb-8848-b94731822f6e",
   "metadata": {},
   "outputs": [],
   "source": [
    "response = client.chat.completions.create(\n",
    "    model=\"gpt-3.5-turbo-0125\",\n",
    "    # response_format={\"type\":\"json_object\"},\n",
    "    messages=[\n",
    "        {\"role\":\"system\", \"content\":\"You are a helpful assistant designed to output json.\"},\n",
    "        {\"role\":\"user\", \"content\":\"Summarize the following transcription.\" + transcriptions[0].text},\n",
    "    ]\n",
    ")"
   ]
  },
  {
   "cell_type": "code",
   "execution_count": 189,
   "id": "bc8a50ae-28e4-4ba2-9a78-f1c8c4725b6b",
   "metadata": {},
   "outputs": [
    {
     "name": "stdout",
     "output_type": "stream",
     "text": [
      "{\n",
      "  \"summary\": \"The transcription is a recount of a conversation with a student who learned a valuable lesson at a Vietnamese monastery about finding meaning in work. It touches on the modern challenge of finding purpose in work and proposes a new approach to understanding and cultivating purpose. It suggests that purpose is not a fixed concept but a dynamic intersection of personal interests, skills, and societal demands. The importance of continuous learning, discovery, and impact in work is emphasized as key components of fulfilling one's purpose.\",\n",
      "  \"main_ideas\": [\n",
      "    \"Learning from a story at a Vietnamese monastery about finding meaning in work\",\n",
      "    \"Modern challenge of finding purpose in work\",\n",
      "    \"Proposing a new approach to understanding and cultivating purpose\",\n",
      "    \"Purpose as a dynamic intersection of personal interests, skills, and societal demands\",\n",
      "    \"Importance of continuous learning, discovery, and impact in work\"\n",
      "  ]\n",
      "}\n"
     ]
    }
   ],
   "source": [
    "print(response.choices[0].message.content)"
   ]
  },
  {
   "cell_type": "code",
   "execution_count": 192,
   "id": "b3ad3887-c55a-43ab-8d37-95924f016493",
   "metadata": {},
   "outputs": [
    {
     "name": "stdout",
     "output_type": "stream",
     "text": [
      "At a party in San Francisco, a student shares a Zen story about moving dirt with no clear purpose at a Vietnamese monastery. Feeling disillusioned with his own work, he learns from a fellow apprentice the value of finding meaning in seemingly mundane tasks. The student's realization sparks a journey to help others find purpose in their work. Despite societal emphasis on purpose-driven work, many people still feel disconnected and unfulfilled in their jobs. Traditional approaches like one-day workshops based on bestselling books fail to address individual complexities and changing circumstances. A new perspective emphasizes self-impact fit, aligning personal desires, abilities, market demands, and external opportunities. Recognizing the human need for impact and contribution, the narrative explores how individuals can find fulfillment by embracing curiosity, developing skills, and making small discoveries in their work. By shifting focus from grand achievements to incremental progress and self-improvement, individuals can cultivate a sense of purpose in any job. Embracing the idea that purpose is an ongoing process rather than a fixed destination, people can create meaningful work experiences and improve overall job satisfaction. The narrative encourages individuals to view work as an opportunity for exploration and personal growth, emphasizing the importance of continuous learning and self-discovery in finding fulfillment in any occupation.\n"
     ]
    }
   ],
   "source": [
    "response = client.chat.completions.create(\n",
    "  model=\"gpt-3.5-turbo-0125\",\n",
    "  # response_format={ \"type\": \"json_object\" },\n",
    "  messages=[\n",
    "    {\"role\": \"system\", \"content\": \"You are a helpful text summarizer assistant.\"},\n",
    "    {\"role\": \"user\", \"content\": \"Summarize this in about 30 lines: \" + transcriptions[0].text}\n",
    "  ]\n",
    ")\n",
    "print(response.choices[0].message.content)"
   ]
  },
  {
   "cell_type": "code",
   "execution_count": null,
   "id": "a238b35c-b6f0-4708-b139-c9dee75cdaa0",
   "metadata": {},
   "outputs": [],
   "source": []
  },
  {
   "cell_type": "code",
   "execution_count": null,
   "id": "2979c43d-eae4-4d54-bf29-981459d67518",
   "metadata": {},
   "outputs": [],
   "source": []
  }
 ],
 "metadata": {
  "kernelspec": {
   "display_name": "Python 3 (ipykernel)",
   "language": "python",
   "name": "python3"
  },
  "language_info": {
   "codemirror_mode": {
    "name": "ipython",
    "version": 3
   },
   "file_extension": ".py",
   "mimetype": "text/x-python",
   "name": "python",
   "nbconvert_exporter": "python",
   "pygments_lexer": "ipython3",
   "version": "3.11.6"
  }
 },
 "nbformat": 4,
 "nbformat_minor": 5
}
